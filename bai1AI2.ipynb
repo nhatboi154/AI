{
  "nbformat": 4,
  "nbformat_minor": 0,
  "metadata": {
    "colab": {
      "name": "bai1AI2.ipynb",
      "provenance": [],
      "collapsed_sections": [],
      "authorship_tag": "ABX9TyPACTe7HimPhX0IwLNAEj4k",
      "include_colab_link": true
    },
    "kernelspec": {
      "name": "python3",
      "display_name": "Python 3"
    },
    "language_info": {
      "name": "python"
    },
    "accelerator": "GPU"
  },
  "cells": [
    {
      "cell_type": "markdown",
      "metadata": {
        "id": "view-in-github",
        "colab_type": "text"
      },
      "source": [
        "<a href=\"https://colab.research.google.com/github/nhatboi154/AI/blob/main/bai1AI2.ipynb\" target=\"_parent\"><img src=\"https://colab.research.google.com/assets/colab-badge.svg\" alt=\"Open In Colab\"/></a>"
      ]
    },
    {
      "cell_type": "code",
      "execution_count": null,
      "metadata": {
        "id": "xWoxH7mbndEA"
      },
      "outputs": [],
      "source": [
        "import numpy as np \n",
        "from keras.utils import np_utils \n",
        "from keras.datasets import fashion_mnist \n",
        "from keras.models import Sequential \n",
        "from keras.layers import Dense, Dropout \n",
        "from tensorflow.keras.optimizers import RMSprop \n",
        "import matplotlib.pyplot as plt  "
      ]
    },
    {
      "cell_type": "code",
      "source": [
        "(x_train, y_train),(x_test,y_test) = fashion_mnist.load_data()"
      ],
      "metadata": {
        "colab": {
          "base_uri": "https://localhost:8080/"
        },
        "id": "QI0aKLiBnqd8",
        "outputId": "71e2d7c4-404d-4eaa-b6c4-b972b89fdd89"
      },
      "execution_count": null,
      "outputs": [
        {
          "output_type": "stream",
          "name": "stdout",
          "text": [
            "Downloading data from https://storage.googleapis.com/tensorflow/tf-keras-datasets/train-labels-idx1-ubyte.gz\n",
            "32768/29515 [=================================] - 0s 0us/step\n",
            "40960/29515 [=========================================] - 0s 0us/step\n",
            "Downloading data from https://storage.googleapis.com/tensorflow/tf-keras-datasets/train-images-idx3-ubyte.gz\n",
            "26427392/26421880 [==============================] - 1s 0us/step\n",
            "26435584/26421880 [==============================] - 1s 0us/step\n",
            "Downloading data from https://storage.googleapis.com/tensorflow/tf-keras-datasets/t10k-labels-idx1-ubyte.gz\n",
            "16384/5148 [===============================================================================================] - 0s 0us/step\n",
            "Downloading data from https://storage.googleapis.com/tensorflow/tf-keras-datasets/t10k-images-idx3-ubyte.gz\n",
            "4423680/4422102 [==============================] - 0s 0us/step\n",
            "4431872/4422102 [==============================] - 0s 0us/step\n"
          ]
        }
      ]
    },
    {
      "cell_type": "code",
      "source": [
        "print('Kích thước x_train: ', x_train.shape)\n",
        "print('Kích thước y_train: ', y_train.shape)\n",
        "print('Kích thước x_test: ', x_test.shape)\n",
        "print('Kích thước y_test: ', y_test.shape)"
      ],
      "metadata": {
        "colab": {
          "base_uri": "https://localhost:8080/"
        },
        "id": "Oh1b6C-jny8w",
        "outputId": "06ffeef0-e265-4b37-c5f2-c817de340c3d"
      },
      "execution_count": null,
      "outputs": [
        {
          "output_type": "stream",
          "name": "stdout",
          "text": [
            "Kích thước x_train:  (60000, 28, 28)\n",
            "Kích thước y_train:  (60000,)\n",
            "Kích thước x_test:  (10000, 28, 28)\n",
            "Kích thước y_test:  (10000,)\n"
          ]
        }
      ]
    },
    {
      "cell_type": "code",
      "source": [
        "x_train = x_train.reshape(60000,784)\n",
        "x_test = x_test.reshape(10000,784)\n",
        "x_train = x_train.astype('float32')\n",
        "x_test = x_test.astype('float32')\n",
        "x_train /=255\n",
        "x_test /=255\n",
        "y_train = np_utils.to_categorical(y_train,10)\n",
        "y_test = np_utils.to_categorical(y_test,10)"
      ],
      "metadata": {
        "id": "oE4E-J0Zn4dx"
      },
      "execution_count": null,
      "outputs": []
    },
    {
      "cell_type": "code",
      "source": [
        "model = Sequential()\n",
        "model.add(Dense(512,activation='relu',input_shape=(784,)))\n",
        "model.add(Dropout(0.2))\n",
        "model.add(Dense(512,activation='relu'))\n",
        "model.add(Dropout(0.2))\n",
        "model.add(Dense(10,activation='softmax'))\n",
        "model.summary()"
      ],
      "metadata": {
        "colab": {
          "base_uri": "https://localhost:8080/"
        },
        "id": "K78o_c3wn_DL",
        "outputId": "3611e582-cad8-41fc-d3c6-b97c4d72382a"
      },
      "execution_count": null,
      "outputs": [
        {
          "output_type": "stream",
          "name": "stdout",
          "text": [
            "Model: \"sequential\"\n",
            "_________________________________________________________________\n",
            " Layer (type)                Output Shape              Param #   \n",
            "=================================================================\n",
            " dense (Dense)               (None, 512)               401920    \n",
            "                                                                 \n",
            " dropout (Dropout)           (None, 512)               0         \n",
            "                                                                 \n",
            " dense_1 (Dense)             (None, 512)               262656    \n",
            "                                                                 \n",
            " dropout_1 (Dropout)         (None, 512)               0         \n",
            "                                                                 \n",
            " dense_2 (Dense)             (None, 10)                5130      \n",
            "                                                                 \n",
            "=================================================================\n",
            "Total params: 669,706\n",
            "Trainable params: 669,706\n",
            "Non-trainable params: 0\n",
            "_________________________________________________________________\n"
          ]
        }
      ]
    },
    {
      "cell_type": "code",
      "source": [
        "model.compile(loss='categorical_crossentropy',optimizer=RMSprop(), metrics=['accuracy'])\n",
        "model.compile(loss='categorical_crossentropy',optimizer=RMSprop(), metrics=['accuracy'])\n",
        "from keras.callbacks import EarlyStopping\n",
        "history = model.fit(x_train,y_train,batch_size=128,epochs=500,verbose=1,\n",
        "                    validation_split=0.2,callbacks=[EarlyStopping(monitor='val_loss',patience=100)])"
      ],
      "metadata": {
        "colab": {
          "base_uri": "https://localhost:8080/"
        },
        "id": "AS7IzxiZoBg6",
        "outputId": "478b12ce-0487-4036-84d4-575c96f6d523"
      },
      "execution_count": null,
      "outputs": [
        {
          "output_type": "stream",
          "name": "stdout",
          "text": [
            "Epoch 1/500\n",
            "375/375 [==============================] - 5s 4ms/step - loss: 0.5862 - accuracy: 0.7880 - val_loss: 0.4676 - val_accuracy: 0.8279\n",
            "Epoch 2/500\n",
            "375/375 [==============================] - 1s 4ms/step - loss: 0.4125 - accuracy: 0.8482 - val_loss: 0.4430 - val_accuracy: 0.8335\n",
            "Epoch 3/500\n",
            "375/375 [==============================] - 1s 3ms/step - loss: 0.3768 - accuracy: 0.8624 - val_loss: 0.3994 - val_accuracy: 0.8500\n",
            "Epoch 4/500\n",
            "375/375 [==============================] - 1s 4ms/step - loss: 0.3537 - accuracy: 0.8720 - val_loss: 0.3672 - val_accuracy: 0.8768\n",
            "Epoch 5/500\n",
            "375/375 [==============================] - 1s 3ms/step - loss: 0.3375 - accuracy: 0.8774 - val_loss: 0.3483 - val_accuracy: 0.8784\n",
            "Epoch 6/500\n",
            "375/375 [==============================] - 1s 3ms/step - loss: 0.3265 - accuracy: 0.8812 - val_loss: 0.3534 - val_accuracy: 0.8781\n",
            "Epoch 7/500\n",
            "375/375 [==============================] - 1s 4ms/step - loss: 0.3209 - accuracy: 0.8831 - val_loss: 0.3497 - val_accuracy: 0.8823\n",
            "Epoch 8/500\n",
            "375/375 [==============================] - 1s 4ms/step - loss: 0.3095 - accuracy: 0.8884 - val_loss: 0.3558 - val_accuracy: 0.8773\n",
            "Epoch 9/500\n",
            "375/375 [==============================] - 1s 4ms/step - loss: 0.3041 - accuracy: 0.8912 - val_loss: 0.3536 - val_accuracy: 0.8785\n",
            "Epoch 10/500\n",
            "375/375 [==============================] - 1s 4ms/step - loss: 0.2967 - accuracy: 0.8922 - val_loss: 0.3630 - val_accuracy: 0.8841\n",
            "Epoch 11/500\n",
            "375/375 [==============================] - 1s 3ms/step - loss: 0.2925 - accuracy: 0.8951 - val_loss: 0.3443 - val_accuracy: 0.8908\n",
            "Epoch 12/500\n",
            "375/375 [==============================] - 1s 4ms/step - loss: 0.2873 - accuracy: 0.8967 - val_loss: 0.3391 - val_accuracy: 0.8906\n",
            "Epoch 13/500\n",
            "375/375 [==============================] - 1s 3ms/step - loss: 0.2872 - accuracy: 0.8967 - val_loss: 0.3480 - val_accuracy: 0.8935\n",
            "Epoch 14/500\n",
            "375/375 [==============================] - 1s 4ms/step - loss: 0.2771 - accuracy: 0.9004 - val_loss: 0.3547 - val_accuracy: 0.8931\n",
            "Epoch 15/500\n",
            "375/375 [==============================] - 2s 6ms/step - loss: 0.2736 - accuracy: 0.9016 - val_loss: 0.3918 - val_accuracy: 0.8815\n",
            "Epoch 16/500\n",
            "375/375 [==============================] - 2s 6ms/step - loss: 0.2740 - accuracy: 0.9022 - val_loss: 0.3741 - val_accuracy: 0.8783\n",
            "Epoch 17/500\n",
            "375/375 [==============================] - 2s 5ms/step - loss: 0.2731 - accuracy: 0.9033 - val_loss: 0.3691 - val_accuracy: 0.8926\n",
            "Epoch 18/500\n",
            "375/375 [==============================] - 2s 6ms/step - loss: 0.2650 - accuracy: 0.9059 - val_loss: 0.3853 - val_accuracy: 0.8928\n",
            "Epoch 19/500\n",
            "375/375 [==============================] - 1s 4ms/step - loss: 0.2614 - accuracy: 0.9055 - val_loss: 0.3819 - val_accuracy: 0.8898\n",
            "Epoch 20/500\n",
            "375/375 [==============================] - 2s 4ms/step - loss: 0.2611 - accuracy: 0.9068 - val_loss: 0.4004 - val_accuracy: 0.8881\n",
            "Epoch 21/500\n",
            "375/375 [==============================] - 1s 4ms/step - loss: 0.2586 - accuracy: 0.9085 - val_loss: 0.4192 - val_accuracy: 0.8916\n",
            "Epoch 22/500\n",
            "375/375 [==============================] - 1s 4ms/step - loss: 0.2552 - accuracy: 0.9099 - val_loss: 0.4722 - val_accuracy: 0.8857\n",
            "Epoch 23/500\n",
            "375/375 [==============================] - 1s 4ms/step - loss: 0.2497 - accuracy: 0.9101 - val_loss: 0.4518 - val_accuracy: 0.8854\n",
            "Epoch 24/500\n",
            "375/375 [==============================] - 1s 4ms/step - loss: 0.2544 - accuracy: 0.9120 - val_loss: 0.4467 - val_accuracy: 0.8929\n",
            "Epoch 25/500\n",
            "375/375 [==============================] - 1s 4ms/step - loss: 0.2457 - accuracy: 0.9122 - val_loss: 0.4238 - val_accuracy: 0.8895\n",
            "Epoch 26/500\n",
            "375/375 [==============================] - 1s 4ms/step - loss: 0.2491 - accuracy: 0.9126 - val_loss: 0.4328 - val_accuracy: 0.8960\n",
            "Epoch 27/500\n",
            "375/375 [==============================] - 1s 4ms/step - loss: 0.2422 - accuracy: 0.9146 - val_loss: 0.4758 - val_accuracy: 0.8971\n",
            "Epoch 28/500\n",
            "375/375 [==============================] - 1s 4ms/step - loss: 0.2424 - accuracy: 0.9166 - val_loss: 0.4656 - val_accuracy: 0.8915\n",
            "Epoch 29/500\n",
            "375/375 [==============================] - 1s 4ms/step - loss: 0.2383 - accuracy: 0.9165 - val_loss: 0.4258 - val_accuracy: 0.8964\n",
            "Epoch 30/500\n",
            "375/375 [==============================] - 1s 4ms/step - loss: 0.2338 - accuracy: 0.9161 - val_loss: 0.5087 - val_accuracy: 0.8907\n",
            "Epoch 31/500\n",
            "375/375 [==============================] - 1s 4ms/step - loss: 0.2401 - accuracy: 0.9178 - val_loss: 0.4698 - val_accuracy: 0.8895\n",
            "Epoch 32/500\n",
            "375/375 [==============================] - 1s 4ms/step - loss: 0.2343 - accuracy: 0.9185 - val_loss: 0.4902 - val_accuracy: 0.8946\n",
            "Epoch 33/500\n",
            "375/375 [==============================] - 1s 4ms/step - loss: 0.2320 - accuracy: 0.9188 - val_loss: 0.4999 - val_accuracy: 0.8929\n",
            "Epoch 34/500\n",
            "375/375 [==============================] - 1s 3ms/step - loss: 0.2285 - accuracy: 0.9209 - val_loss: 0.4890 - val_accuracy: 0.8953\n",
            "Epoch 35/500\n",
            "375/375 [==============================] - 1s 4ms/step - loss: 0.2283 - accuracy: 0.9215 - val_loss: 0.5162 - val_accuracy: 0.8876\n",
            "Epoch 36/500\n",
            "375/375 [==============================] - 1s 4ms/step - loss: 0.2249 - accuracy: 0.9217 - val_loss: 0.5503 - val_accuracy: 0.8917\n",
            "Epoch 37/500\n",
            "375/375 [==============================] - 1s 4ms/step - loss: 0.2272 - accuracy: 0.9225 - val_loss: 0.5131 - val_accuracy: 0.8917\n",
            "Epoch 38/500\n",
            "375/375 [==============================] - 1s 3ms/step - loss: 0.2264 - accuracy: 0.9214 - val_loss: 0.5076 - val_accuracy: 0.8959\n",
            "Epoch 39/500\n",
            "375/375 [==============================] - 1s 4ms/step - loss: 0.2197 - accuracy: 0.9229 - val_loss: 0.5113 - val_accuracy: 0.8938\n",
            "Epoch 40/500\n",
            "375/375 [==============================] - 1s 4ms/step - loss: 0.2222 - accuracy: 0.9245 - val_loss: 0.5224 - val_accuracy: 0.8927\n",
            "Epoch 41/500\n",
            "375/375 [==============================] - 1s 4ms/step - loss: 0.2211 - accuracy: 0.9238 - val_loss: 0.5266 - val_accuracy: 0.8912\n",
            "Epoch 42/500\n",
            "375/375 [==============================] - 1s 4ms/step - loss: 0.2199 - accuracy: 0.9258 - val_loss: 0.5814 - val_accuracy: 0.8945\n",
            "Epoch 43/500\n",
            "375/375 [==============================] - 1s 4ms/step - loss: 0.2173 - accuracy: 0.9261 - val_loss: 0.5130 - val_accuracy: 0.8988\n",
            "Epoch 44/500\n",
            "375/375 [==============================] - 1s 4ms/step - loss: 0.2227 - accuracy: 0.9248 - val_loss: 0.5724 - val_accuracy: 0.8894\n",
            "Epoch 45/500\n",
            "375/375 [==============================] - 1s 4ms/step - loss: 0.2122 - accuracy: 0.9255 - val_loss: 0.6459 - val_accuracy: 0.8908\n",
            "Epoch 46/500\n",
            "375/375 [==============================] - 1s 3ms/step - loss: 0.2128 - accuracy: 0.9273 - val_loss: 0.5606 - val_accuracy: 0.8957\n",
            "Epoch 47/500\n",
            "375/375 [==============================] - 1s 4ms/step - loss: 0.2139 - accuracy: 0.9272 - val_loss: 0.5707 - val_accuracy: 0.8976\n",
            "Epoch 48/500\n",
            "375/375 [==============================] - 1s 4ms/step - loss: 0.2129 - accuracy: 0.9280 - val_loss: 0.5783 - val_accuracy: 0.8972\n",
            "Epoch 49/500\n",
            "375/375 [==============================] - 1s 4ms/step - loss: 0.2113 - accuracy: 0.9292 - val_loss: 0.5494 - val_accuracy: 0.8922\n",
            "Epoch 50/500\n",
            "375/375 [==============================] - 1s 4ms/step - loss: 0.2075 - accuracy: 0.9306 - val_loss: 0.6211 - val_accuracy: 0.8903\n",
            "Epoch 51/500\n",
            "375/375 [==============================] - 1s 3ms/step - loss: 0.2057 - accuracy: 0.9304 - val_loss: 0.6242 - val_accuracy: 0.8803\n",
            "Epoch 52/500\n",
            "375/375 [==============================] - 1s 3ms/step - loss: 0.2038 - accuracy: 0.9314 - val_loss: 0.5969 - val_accuracy: 0.8954\n",
            "Epoch 53/500\n",
            "375/375 [==============================] - 1s 4ms/step - loss: 0.1996 - accuracy: 0.9300 - val_loss: 0.6154 - val_accuracy: 0.8913\n",
            "Epoch 54/500\n",
            "375/375 [==============================] - 1s 3ms/step - loss: 0.2083 - accuracy: 0.9308 - val_loss: 0.6422 - val_accuracy: 0.8957\n",
            "Epoch 55/500\n",
            "375/375 [==============================] - 1s 4ms/step - loss: 0.2039 - accuracy: 0.9313 - val_loss: 0.6147 - val_accuracy: 0.8978\n",
            "Epoch 56/500\n",
            "375/375 [==============================] - 1s 4ms/step - loss: 0.1998 - accuracy: 0.9321 - val_loss: 0.6790 - val_accuracy: 0.8948\n",
            "Epoch 57/500\n",
            "375/375 [==============================] - 1s 4ms/step - loss: 0.2050 - accuracy: 0.9322 - val_loss: 0.5927 - val_accuracy: 0.8918\n",
            "Epoch 58/500\n",
            "375/375 [==============================] - 1s 4ms/step - loss: 0.2069 - accuracy: 0.9308 - val_loss: 0.6451 - val_accuracy: 0.8932\n",
            "Epoch 59/500\n",
            "375/375 [==============================] - 1s 4ms/step - loss: 0.2030 - accuracy: 0.9327 - val_loss: 0.6119 - val_accuracy: 0.8979\n",
            "Epoch 60/500\n",
            "375/375 [==============================] - 1s 3ms/step - loss: 0.2038 - accuracy: 0.9328 - val_loss: 0.6177 - val_accuracy: 0.9000\n",
            "Epoch 61/500\n",
            "375/375 [==============================] - 1s 4ms/step - loss: 0.1971 - accuracy: 0.9329 - val_loss: 0.7128 - val_accuracy: 0.8937\n",
            "Epoch 62/500\n",
            "375/375 [==============================] - 1s 4ms/step - loss: 0.1996 - accuracy: 0.9336 - val_loss: 0.7466 - val_accuracy: 0.8952\n",
            "Epoch 63/500\n",
            "375/375 [==============================] - 2s 5ms/step - loss: 0.2013 - accuracy: 0.9350 - val_loss: 0.6729 - val_accuracy: 0.8978\n",
            "Epoch 64/500\n",
            "375/375 [==============================] - 2s 4ms/step - loss: 0.1976 - accuracy: 0.9353 - val_loss: 0.7081 - val_accuracy: 0.8830\n",
            "Epoch 65/500\n",
            "375/375 [==============================] - 1s 4ms/step - loss: 0.1949 - accuracy: 0.9342 - val_loss: 0.7164 - val_accuracy: 0.8925\n",
            "Epoch 66/500\n",
            "375/375 [==============================] - 1s 4ms/step - loss: 0.2003 - accuracy: 0.9358 - val_loss: 0.7047 - val_accuracy: 0.8961\n",
            "Epoch 67/500\n",
            "375/375 [==============================] - 1s 4ms/step - loss: 0.1943 - accuracy: 0.9356 - val_loss: 0.6729 - val_accuracy: 0.8961\n",
            "Epoch 68/500\n",
            "375/375 [==============================] - 1s 4ms/step - loss: 0.1932 - accuracy: 0.9355 - val_loss: 0.7399 - val_accuracy: 0.8983\n",
            "Epoch 69/500\n",
            "375/375 [==============================] - 1s 4ms/step - loss: 0.1952 - accuracy: 0.9365 - val_loss: 0.6750 - val_accuracy: 0.8979\n",
            "Epoch 70/500\n",
            "375/375 [==============================] - 1s 4ms/step - loss: 0.1970 - accuracy: 0.9363 - val_loss: 0.7288 - val_accuracy: 0.8946\n",
            "Epoch 71/500\n",
            "375/375 [==============================] - 1s 4ms/step - loss: 0.1938 - accuracy: 0.9374 - val_loss: 0.8053 - val_accuracy: 0.8942\n",
            "Epoch 72/500\n",
            "375/375 [==============================] - 1s 4ms/step - loss: 0.1947 - accuracy: 0.9351 - val_loss: 0.7826 - val_accuracy: 0.8883\n",
            "Epoch 73/500\n",
            "375/375 [==============================] - 1s 4ms/step - loss: 0.1955 - accuracy: 0.9367 - val_loss: 0.7189 - val_accuracy: 0.8901\n",
            "Epoch 74/500\n",
            "375/375 [==============================] - 1s 4ms/step - loss: 0.1862 - accuracy: 0.9379 - val_loss: 0.7331 - val_accuracy: 0.8959\n",
            "Epoch 75/500\n",
            "375/375 [==============================] - 1s 4ms/step - loss: 0.1869 - accuracy: 0.9378 - val_loss: 0.7721 - val_accuracy: 0.9002\n",
            "Epoch 76/500\n",
            "375/375 [==============================] - 1s 4ms/step - loss: 0.1944 - accuracy: 0.9382 - val_loss: 0.9098 - val_accuracy: 0.8943\n",
            "Epoch 77/500\n",
            "375/375 [==============================] - 1s 4ms/step - loss: 0.1849 - accuracy: 0.9388 - val_loss: 0.8339 - val_accuracy: 0.8983\n",
            "Epoch 78/500\n",
            "375/375 [==============================] - 1s 4ms/step - loss: 0.1784 - accuracy: 0.9399 - val_loss: 0.8815 - val_accuracy: 0.8913\n",
            "Epoch 79/500\n",
            "375/375 [==============================] - 1s 4ms/step - loss: 0.1875 - accuracy: 0.9390 - val_loss: 0.7539 - val_accuracy: 0.8920\n",
            "Epoch 80/500\n",
            "375/375 [==============================] - 1s 4ms/step - loss: 0.1835 - accuracy: 0.9395 - val_loss: 0.8499 - val_accuracy: 0.8957\n",
            "Epoch 81/500\n",
            "375/375 [==============================] - 1s 4ms/step - loss: 0.1833 - accuracy: 0.9401 - val_loss: 0.8360 - val_accuracy: 0.8957\n",
            "Epoch 82/500\n",
            "375/375 [==============================] - 1s 4ms/step - loss: 0.1781 - accuracy: 0.9409 - val_loss: 0.9256 - val_accuracy: 0.8873\n",
            "Epoch 83/500\n",
            "375/375 [==============================] - 1s 4ms/step - loss: 0.1799 - accuracy: 0.9404 - val_loss: 0.8839 - val_accuracy: 0.8978\n",
            "Epoch 84/500\n",
            "375/375 [==============================] - 1s 4ms/step - loss: 0.1853 - accuracy: 0.9417 - val_loss: 0.8314 - val_accuracy: 0.8910\n",
            "Epoch 85/500\n",
            "375/375 [==============================] - 1s 4ms/step - loss: 0.1829 - accuracy: 0.9413 - val_loss: 0.9286 - val_accuracy: 0.8986\n",
            "Epoch 86/500\n",
            "375/375 [==============================] - 1s 4ms/step - loss: 0.1823 - accuracy: 0.9406 - val_loss: 0.8959 - val_accuracy: 0.8939\n",
            "Epoch 87/500\n",
            "375/375 [==============================] - 1s 4ms/step - loss: 0.1857 - accuracy: 0.9427 - val_loss: 0.8568 - val_accuracy: 0.8953\n",
            "Epoch 88/500\n",
            "375/375 [==============================] - 1s 4ms/step - loss: 0.1844 - accuracy: 0.9401 - val_loss: 0.8953 - val_accuracy: 0.8883\n",
            "Epoch 89/500\n",
            "375/375 [==============================] - 1s 3ms/step - loss: 0.1856 - accuracy: 0.9422 - val_loss: 0.8002 - val_accuracy: 0.8886\n",
            "Epoch 90/500\n",
            "375/375 [==============================] - 1s 4ms/step - loss: 0.1809 - accuracy: 0.9427 - val_loss: 0.9095 - val_accuracy: 0.8931\n",
            "Epoch 91/500\n",
            "375/375 [==============================] - 1s 4ms/step - loss: 0.1806 - accuracy: 0.9425 - val_loss: 0.8966 - val_accuracy: 0.8992\n",
            "Epoch 92/500\n",
            "375/375 [==============================] - 1s 4ms/step - loss: 0.1797 - accuracy: 0.9425 - val_loss: 0.8582 - val_accuracy: 0.8917\n",
            "Epoch 93/500\n",
            "375/375 [==============================] - 1s 4ms/step - loss: 0.1891 - accuracy: 0.9418 - val_loss: 0.9409 - val_accuracy: 0.8931\n",
            "Epoch 94/500\n",
            "375/375 [==============================] - 1s 4ms/step - loss: 0.1783 - accuracy: 0.9420 - val_loss: 0.8811 - val_accuracy: 0.8947\n",
            "Epoch 95/500\n",
            "375/375 [==============================] - 1s 4ms/step - loss: 0.1900 - accuracy: 0.9427 - val_loss: 0.9964 - val_accuracy: 0.8917\n",
            "Epoch 96/500\n",
            "375/375 [==============================] - 1s 4ms/step - loss: 0.1734 - accuracy: 0.9446 - val_loss: 1.0472 - val_accuracy: 0.8910\n",
            "Epoch 97/500\n",
            "375/375 [==============================] - 1s 4ms/step - loss: 0.1760 - accuracy: 0.9448 - val_loss: 1.0203 - val_accuracy: 0.8892\n",
            "Epoch 98/500\n",
            "375/375 [==============================] - 1s 4ms/step - loss: 0.1746 - accuracy: 0.9441 - val_loss: 1.0288 - val_accuracy: 0.8964\n",
            "Epoch 99/500\n",
            "375/375 [==============================] - 1s 4ms/step - loss: 0.1815 - accuracy: 0.9446 - val_loss: 0.8855 - val_accuracy: 0.8936\n",
            "Epoch 100/500\n",
            "375/375 [==============================] - 1s 3ms/step - loss: 0.1739 - accuracy: 0.9440 - val_loss: 0.9948 - val_accuracy: 0.8972\n",
            "Epoch 101/500\n",
            "375/375 [==============================] - 1s 4ms/step - loss: 0.1661 - accuracy: 0.9457 - val_loss: 1.0145 - val_accuracy: 0.8963\n",
            "Epoch 102/500\n",
            "375/375 [==============================] - 1s 4ms/step - loss: 0.1748 - accuracy: 0.9450 - val_loss: 0.9995 - val_accuracy: 0.8952\n",
            "Epoch 103/500\n",
            "375/375 [==============================] - 1s 4ms/step - loss: 0.1825 - accuracy: 0.9460 - val_loss: 1.0030 - val_accuracy: 0.8916\n",
            "Epoch 104/500\n",
            "375/375 [==============================] - 1s 3ms/step - loss: 0.1741 - accuracy: 0.9444 - val_loss: 0.9735 - val_accuracy: 0.8907\n",
            "Epoch 105/500\n",
            "375/375 [==============================] - 1s 4ms/step - loss: 0.1802 - accuracy: 0.9458 - val_loss: 0.9481 - val_accuracy: 0.8914\n",
            "Epoch 106/500\n",
            "375/375 [==============================] - 1s 4ms/step - loss: 0.1693 - accuracy: 0.9474 - val_loss: 0.9788 - val_accuracy: 0.8973\n",
            "Epoch 107/500\n",
            "375/375 [==============================] - 1s 4ms/step - loss: 0.1741 - accuracy: 0.9468 - val_loss: 0.9887 - val_accuracy: 0.8939\n",
            "Epoch 108/500\n",
            "375/375 [==============================] - 2s 4ms/step - loss: 0.1677 - accuracy: 0.9459 - val_loss: 1.0499 - val_accuracy: 0.8949\n",
            "Epoch 109/500\n",
            "375/375 [==============================] - 1s 4ms/step - loss: 0.1704 - accuracy: 0.9475 - val_loss: 1.0669 - val_accuracy: 0.8998\n",
            "Epoch 110/500\n",
            "375/375 [==============================] - 1s 4ms/step - loss: 0.1674 - accuracy: 0.9485 - val_loss: 1.1137 - val_accuracy: 0.8975\n",
            "Epoch 111/500\n",
            "375/375 [==============================] - 1s 4ms/step - loss: 0.1808 - accuracy: 0.9464 - val_loss: 1.0457 - val_accuracy: 0.8961\n",
            "Epoch 112/500\n",
            "375/375 [==============================] - 1s 4ms/step - loss: 0.1663 - accuracy: 0.9470 - val_loss: 1.0182 - val_accuracy: 0.8932\n"
          ]
        }
      ]
    },
    {
      "cell_type": "code",
      "source": [
        "score = model.evaluate(x_test,y_test,verbose=0)\n",
        "print('Sai số kiểm tra là: ',score[0])\n",
        "print('Độ chính xác kiểm tra là: ',score[1])\n",
        "plt.plot(history.history['accuracy'])\n",
        "plt.plot(history.history['val_accuracy'])\n",
        "plt.title('model accuracy')\n",
        "plt.ylabel('accuracy')\n",
        "plt.xlabel('epochs')\n",
        "plt.legend(['train','Validation'])\n",
        "plt.show()"
      ],
      "metadata": {
        "colab": {
          "base_uri": "https://localhost:8080/",
          "height": 330
        },
        "id": "eNX1rKz5oFF2",
        "outputId": "c8598ec5-0aed-44d5-bafc-55a9f6a378a7"
      },
      "execution_count": null,
      "outputs": [
        {
          "output_type": "stream",
          "name": "stdout",
          "text": [
            "Sai số kiểm tra là:  1.1979269981384277\n",
            "Độ chính xác kiểm tra là:  0.888700008392334\n"
          ]
        },
        {
          "output_type": "display_data",
          "data": {
            "text/plain": [
              "<Figure size 432x288 with 1 Axes>"
            ],
            "image/png": "[encoded data removed]"
          },
          "metadata": {
            "needs_background": "light"
          }
        }
      ]
    },
    {
      "cell_type": "code",
      "source": [
        ""
      ],
      "metadata": {
        "id": "1aHutYdHpCs7"
      },
      "execution_count": null,
      "outputs": []
    }
  ]
}