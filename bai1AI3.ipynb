{
  "nbformat": 4,
  "nbformat_minor": 0,
  "metadata": {
    "colab": {
      "name": "bai1AI3.ipynb",
      "provenance": [],
      "collapsed_sections": [],
      "authorship_tag": "ABX9TyOi5zTPeqjVIM6J1MlTgQYs",
      "include_colab_link": true
    },
    "kernelspec": {
      "name": "python3",
      "display_name": "Python 3"
    },
    "language_info": {
      "name": "python"
    },
    "accelerator": "GPU"
  },
  "cells": [
    {
      "cell_type": "markdown",
      "metadata": {
        "id": "view-in-github",
        "colab_type": "text"
      },
      "source": [
        "<a href=\"https://colab.research.google.com/github/nhatboi154/AI/blob/main/bai1AI3.ipynb\" target=\"_parent\"><img src=\"https://colab.research.google.com/assets/colab-badge.svg\" alt=\"Open In Colab\"/></a>"
      ]
    },
    {
      "cell_type": "code",
      "execution_count": null,
      "metadata": {
        "id": "5pa44t2wpNjx"
      },
      "outputs": [],
      "source": [
        "import numpy as np \n",
        "from keras.utils import np_utils \n",
        "from keras.datasets import cifar10 \n",
        "from keras.models import Sequential \n",
        "from keras.layers import Dense, Dropout \n",
        "from tensorflow.keras.optimizers import RMSprop \n",
        "import matplotlib.pyplot as plt  \n",
        "from keras.backend import dropout"
      ]
    },
    {
      "cell_type": "code",
      "source": [
        "(x_train, y_train),(x_test,y_test) = cifar10.load_data()"
      ],
      "metadata": {
        "colab": {
          "base_uri": "https://localhost:8080/"
        },
        "id": "hRbjZCyUp719",
        "outputId": "6c550b13-64eb-48ae-ec4c-eed20c34bf44"
      },
      "execution_count": null,
      "outputs": [
        {
          "output_type": "stream",
          "name": "stdout",
          "text": [
            "Downloading data from https://www.cs.toronto.edu/~kriz/cifar-10-python.tar.gz\n",
            "170500096/170498071 [==============================] - 2s 0us/step\n",
            "170508288/170498071 [==============================] - 2s 0us/step\n"
          ]
        }
      ]
    },
    {
      "cell_type": "code",
      "source": [
        "print('Kích thước x_train: ', x_train.shape)\n",
        "print('Kích thước y_train: ', y_train.shape)\n",
        "print('Kích thước x_test: ', x_test.shape)\n",
        "print('Kích thước y_test: ', y_test.shape)"
      ],
      "metadata": {
        "colab": {
          "base_uri": "https://localhost:8080/"
        },
        "id": "IXExBSklqMZ-",
        "outputId": "4064292b-9f84-4aec-ca3d-7ed491fc7a4c"
      },
      "execution_count": null,
      "outputs": [
        {
          "output_type": "stream",
          "name": "stdout",
          "text": [
            "Kích thước x_train:  (50000, 32, 32, 3)\n",
            "Kích thước y_train:  (50000, 1)\n",
            "Kích thước x_test:  (10000, 32, 32, 3)\n",
            "Kích thước y_test:  (10000, 1)\n"
          ]
        }
      ]
    },
    {
      "cell_type": "code",
      "source": [
        "x_train = x_train.reshape(50000,3072)\n",
        "x_test = x_test.reshape(10000,3072)\n",
        "x_train = x_train.astype('float32')\n",
        "x_test = x_test.astype('float32')\n",
        "x_train /=255\n",
        "x_test /=255\n",
        "y_train = np_utils.to_categorical(y_train,10)\n",
        "y_test = np_utils.to_categorical(y_test,10)"
      ],
      "metadata": {
        "id": "pIeRYadxqOfF"
      },
      "execution_count": null,
      "outputs": []
    },
    {
      "cell_type": "code",
      "source": [
        "model = Sequential()\n",
        "model.add(Dense(512,activation='relu',input_shape=(3072,)))\n",
        "model.add(Dropout(0.2))\n",
        "model.add(Dense(512,activation='relu'))\n",
        "model.add(Dropout(0.2))\n",
        "model.add(Dense(10,activation='softmax'))\n",
        "\n",
        "model.summary()"
      ],
      "metadata": {
        "colab": {
          "base_uri": "https://localhost:8080/"
        },
        "id": "K4dooXKjqYi_",
        "outputId": "101cf50a-a252-412d-df70-e3f4aa9ccc96"
      },
      "execution_count": null,
      "outputs": [
        {
          "output_type": "stream",
          "name": "stdout",
          "text": [
            "Model: \"sequential\"\n",
            "_________________________________________________________________\n",
            " Layer (type)                Output Shape              Param #   \n",
            "=================================================================\n",
            " dense (Dense)               (None, 512)               1573376   \n",
            "                                                                 \n",
            " dropout (Dropout)           (None, 512)               0         \n",
            "                                                                 \n",
            " dense_1 (Dense)             (None, 512)               262656    \n",
            "                                                                 \n",
            " dropout_1 (Dropout)         (None, 512)               0         \n",
            "                                                                 \n",
            " dense_2 (Dense)             (None, 10)                5130      \n",
            "                                                                 \n",
            "=================================================================\n",
            "Total params: 1,841,162\n",
            "Trainable params: 1,841,162\n",
            "Non-trainable params: 0\n",
            "_________________________________________________________________\n"
          ]
        }
      ]
    },
    {
      "cell_type": "code",
      "source": [
        "model.compile(loss='categorical_crossentropy',optimizer=RMSprop(), metrics=['accuracy'])\n",
        "model.compile(loss='categorical_crossentropy',optimizer=RMSprop(), metrics=['accuracy'])\n",
        "from keras.callbacks import EarlyStopping\n",
        "history = model.fit(x_train,y_train,batch_size=128,epochs=500,verbose=1,\n",
        "                    validation_split=0.2,callbacks=[EarlyStopping(monitor='val_loss',patience=100)])"
      ],
      "metadata": {
        "colab": {
          "base_uri": "https://localhost:8080/"
        },
        "id": "xsnemghDqbTH",
        "outputId": "ba543790-930b-43a5-d516-b471da592800"
      },
      "execution_count": null,
      "outputs": [
        {
          "output_type": "stream",
          "name": "stdout",
          "text": [
            "Epoch 1/500\n",
            "313/313 [==============================] - 5s 6ms/step - loss: 2.1687 - accuracy: 0.2398 - val_loss: 1.9740 - val_accuracy: 0.2590\n",
            "Epoch 2/500\n",
            "313/313 [==============================] - 2s 5ms/step - loss: 1.8789 - accuracy: 0.3198 - val_loss: 1.8115 - val_accuracy: 0.3503\n",
            "Epoch 3/500\n",
            "313/313 [==============================] - 2s 5ms/step - loss: 1.8063 - accuracy: 0.3517 - val_loss: 1.7639 - val_accuracy: 0.3627\n",
            "Epoch 4/500\n",
            "313/313 [==============================] - 2s 5ms/step - loss: 1.7547 - accuracy: 0.3683 - val_loss: 1.7441 - val_accuracy: 0.3644\n",
            "Epoch 5/500\n",
            "313/313 [==============================] - 2s 5ms/step - loss: 1.7220 - accuracy: 0.3831 - val_loss: 1.7977 - val_accuracy: 0.3455\n",
            "Epoch 6/500\n",
            "313/313 [==============================] - 2s 5ms/step - loss: 1.6889 - accuracy: 0.3943 - val_loss: 1.6408 - val_accuracy: 0.4163\n",
            "Epoch 7/500\n",
            "313/313 [==============================] - 2s 5ms/step - loss: 1.6659 - accuracy: 0.4024 - val_loss: 1.6494 - val_accuracy: 0.4190\n",
            "Epoch 8/500\n",
            "313/313 [==============================] - 2s 5ms/step - loss: 1.6461 - accuracy: 0.4114 - val_loss: 1.6137 - val_accuracy: 0.4258\n",
            "Epoch 9/500\n",
            "313/313 [==============================] - 2s 5ms/step - loss: 1.6273 - accuracy: 0.4153 - val_loss: 1.6008 - val_accuracy: 0.4374\n",
            "Epoch 10/500\n",
            "313/313 [==============================] - 2s 5ms/step - loss: 1.6136 - accuracy: 0.4235 - val_loss: 1.5996 - val_accuracy: 0.4277\n",
            "Epoch 11/500\n",
            "313/313 [==============================] - 2s 5ms/step - loss: 1.5935 - accuracy: 0.4284 - val_loss: 1.6586 - val_accuracy: 0.4166\n",
            "Epoch 12/500\n",
            "313/313 [==============================] - 2s 5ms/step - loss: 1.5911 - accuracy: 0.4329 - val_loss: 1.6088 - val_accuracy: 0.4220\n",
            "Epoch 13/500\n",
            "313/313 [==============================] - 2s 5ms/step - loss: 1.5735 - accuracy: 0.4352 - val_loss: 1.5717 - val_accuracy: 0.4469\n",
            "Epoch 14/500\n",
            "313/313 [==============================] - 2s 5ms/step - loss: 1.5722 - accuracy: 0.4389 - val_loss: 1.6574 - val_accuracy: 0.4045\n",
            "Epoch 15/500\n",
            "313/313 [==============================] - 2s 5ms/step - loss: 1.5586 - accuracy: 0.4426 - val_loss: 1.5708 - val_accuracy: 0.4433\n",
            "Epoch 16/500\n",
            "313/313 [==============================] - 2s 5ms/step - loss: 1.5482 - accuracy: 0.4463 - val_loss: 1.5972 - val_accuracy: 0.4386\n",
            "Epoch 17/500\n",
            "313/313 [==============================] - 2s 5ms/step - loss: 1.5379 - accuracy: 0.4498 - val_loss: 1.6110 - val_accuracy: 0.4287\n",
            "Epoch 18/500\n",
            "313/313 [==============================] - 2s 5ms/step - loss: 1.5244 - accuracy: 0.4551 - val_loss: 1.5002 - val_accuracy: 0.4678\n",
            "Epoch 19/500\n",
            "313/313 [==============================] - 2s 5ms/step - loss: 1.5264 - accuracy: 0.4549 - val_loss: 1.5383 - val_accuracy: 0.4560\n",
            "Epoch 20/500\n",
            "313/313 [==============================] - 2s 5ms/step - loss: 1.5203 - accuracy: 0.4553 - val_loss: 1.5687 - val_accuracy: 0.4371\n",
            "Epoch 21/500\n",
            "313/313 [==============================] - 2s 5ms/step - loss: 1.5136 - accuracy: 0.4579 - val_loss: 1.5828 - val_accuracy: 0.4528\n",
            "Epoch 22/500\n",
            "313/313 [==============================] - 2s 5ms/step - loss: 1.5073 - accuracy: 0.4584 - val_loss: 1.5338 - val_accuracy: 0.4585\n",
            "Epoch 23/500\n",
            "313/313 [==============================] - 2s 6ms/step - loss: 1.5017 - accuracy: 0.4618 - val_loss: 1.5579 - val_accuracy: 0.4505\n",
            "Epoch 24/500\n",
            "313/313 [==============================] - 2s 5ms/step - loss: 1.4960 - accuracy: 0.4660 - val_loss: 1.5453 - val_accuracy: 0.4604\n",
            "Epoch 25/500\n",
            "313/313 [==============================] - 2s 6ms/step - loss: 1.4949 - accuracy: 0.4658 - val_loss: 1.5482 - val_accuracy: 0.4550\n",
            "Epoch 26/500\n",
            "313/313 [==============================] - 2s 6ms/step - loss: 1.4853 - accuracy: 0.4687 - val_loss: 1.5480 - val_accuracy: 0.4570\n",
            "Epoch 27/500\n",
            "313/313 [==============================] - 2s 5ms/step - loss: 1.4877 - accuracy: 0.4685 - val_loss: 1.5921 - val_accuracy: 0.4420\n",
            "Epoch 28/500\n",
            "313/313 [==============================] - 2s 5ms/step - loss: 1.4785 - accuracy: 0.4716 - val_loss: 1.5334 - val_accuracy: 0.4609\n",
            "Epoch 29/500\n",
            "313/313 [==============================] - 2s 5ms/step - loss: 1.4763 - accuracy: 0.4726 - val_loss: 1.5244 - val_accuracy: 0.4737\n",
            "Epoch 30/500\n",
            "313/313 [==============================] - 2s 5ms/step - loss: 1.4703 - accuracy: 0.4768 - val_loss: 1.5123 - val_accuracy: 0.4701\n",
            "Epoch 31/500\n",
            "313/313 [==============================] - 2s 6ms/step - loss: 1.4691 - accuracy: 0.4756 - val_loss: 1.5593 - val_accuracy: 0.4543\n",
            "Epoch 32/500\n",
            "313/313 [==============================] - 2s 5ms/step - loss: 1.4657 - accuracy: 0.4785 - val_loss: 1.5314 - val_accuracy: 0.4728\n",
            "Epoch 33/500\n",
            "313/313 [==============================] - 2s 6ms/step - loss: 1.4586 - accuracy: 0.4811 - val_loss: 1.5751 - val_accuracy: 0.4435\n",
            "Epoch 34/500\n",
            "313/313 [==============================] - 2s 6ms/step - loss: 1.4556 - accuracy: 0.4832 - val_loss: 1.5058 - val_accuracy: 0.4693\n",
            "Epoch 35/500\n",
            "313/313 [==============================] - 2s 5ms/step - loss: 1.4571 - accuracy: 0.4844 - val_loss: 1.5328 - val_accuracy: 0.4484\n",
            "Epoch 36/500\n",
            "313/313 [==============================] - 2s 5ms/step - loss: 1.4474 - accuracy: 0.4845 - val_loss: 1.5055 - val_accuracy: 0.4762\n",
            "Epoch 37/500\n",
            "313/313 [==============================] - 2s 5ms/step - loss: 1.4448 - accuracy: 0.4893 - val_loss: 1.5057 - val_accuracy: 0.4761\n",
            "Epoch 38/500\n",
            "313/313 [==============================] - 2s 5ms/step - loss: 1.4487 - accuracy: 0.4817 - val_loss: 1.5100 - val_accuracy: 0.4742\n",
            "Epoch 39/500\n",
            "313/313 [==============================] - 2s 6ms/step - loss: 1.4385 - accuracy: 0.4884 - val_loss: 1.5445 - val_accuracy: 0.4643\n",
            "Epoch 40/500\n",
            "313/313 [==============================] - 2s 5ms/step - loss: 1.4427 - accuracy: 0.4879 - val_loss: 1.5874 - val_accuracy: 0.4465\n",
            "Epoch 41/500\n",
            "313/313 [==============================] - 2s 5ms/step - loss: 1.4351 - accuracy: 0.4899 - val_loss: 1.4932 - val_accuracy: 0.4806\n",
            "Epoch 42/500\n",
            "313/313 [==============================] - 2s 5ms/step - loss: 1.4339 - accuracy: 0.4901 - val_loss: 1.5216 - val_accuracy: 0.4803\n",
            "Epoch 43/500\n",
            "313/313 [==============================] - 2s 5ms/step - loss: 1.4331 - accuracy: 0.4894 - val_loss: 1.5239 - val_accuracy: 0.4721\n",
            "Epoch 44/500\n",
            "313/313 [==============================] - 2s 6ms/step - loss: 1.4260 - accuracy: 0.4895 - val_loss: 1.5713 - val_accuracy: 0.4603\n",
            "Epoch 45/500\n",
            "313/313 [==============================] - 2s 5ms/step - loss: 1.4271 - accuracy: 0.4944 - val_loss: 1.5422 - val_accuracy: 0.4660\n",
            "Epoch 46/500\n",
            "313/313 [==============================] - 2s 5ms/step - loss: 1.4310 - accuracy: 0.4926 - val_loss: 1.5729 - val_accuracy: 0.4523\n",
            "Epoch 47/500\n",
            "313/313 [==============================] - 2s 6ms/step - loss: 1.4253 - accuracy: 0.4906 - val_loss: 1.5024 - val_accuracy: 0.4700\n",
            "Epoch 48/500\n",
            "313/313 [==============================] - 2s 6ms/step - loss: 1.4298 - accuracy: 0.4924 - val_loss: 1.5347 - val_accuracy: 0.4591\n",
            "Epoch 49/500\n",
            "313/313 [==============================] - 2s 5ms/step - loss: 1.4233 - accuracy: 0.4938 - val_loss: 1.6087 - val_accuracy: 0.4304\n",
            "Epoch 50/500\n",
            "313/313 [==============================] - 2s 5ms/step - loss: 1.4252 - accuracy: 0.4933 - val_loss: 1.4942 - val_accuracy: 0.4786\n",
            "Epoch 51/500\n",
            "313/313 [==============================] - 2s 5ms/step - loss: 1.4133 - accuracy: 0.4962 - val_loss: 1.6306 - val_accuracy: 0.4297\n",
            "Epoch 52/500\n",
            "313/313 [==============================] - 2s 5ms/step - loss: 1.4152 - accuracy: 0.4992 - val_loss: 1.6227 - val_accuracy: 0.4327\n",
            "Epoch 53/500\n",
            "313/313 [==============================] - 2s 5ms/step - loss: 1.4112 - accuracy: 0.4961 - val_loss: 1.5651 - val_accuracy: 0.4563\n",
            "Epoch 54/500\n",
            "313/313 [==============================] - 2s 5ms/step - loss: 1.4072 - accuracy: 0.4990 - val_loss: 1.5255 - val_accuracy: 0.4777\n",
            "Epoch 55/500\n",
            "313/313 [==============================] - 2s 6ms/step - loss: 1.4134 - accuracy: 0.4990 - val_loss: 1.5899 - val_accuracy: 0.4395\n",
            "Epoch 56/500\n",
            "313/313 [==============================] - 2s 5ms/step - loss: 1.4104 - accuracy: 0.5013 - val_loss: 1.5575 - val_accuracy: 0.4577\n",
            "Epoch 57/500\n",
            "313/313 [==============================] - 2s 5ms/step - loss: 1.4011 - accuracy: 0.5040 - val_loss: 1.4986 - val_accuracy: 0.4794\n",
            "Epoch 58/500\n",
            "313/313 [==============================] - 2s 5ms/step - loss: 1.4016 - accuracy: 0.5011 - val_loss: 1.5315 - val_accuracy: 0.4628\n",
            "Epoch 59/500\n",
            "313/313 [==============================] - 2s 5ms/step - loss: 1.4066 - accuracy: 0.5036 - val_loss: 1.4934 - val_accuracy: 0.4861\n",
            "Epoch 60/500\n",
            "313/313 [==============================] - 2s 5ms/step - loss: 1.3966 - accuracy: 0.5033 - val_loss: 1.5743 - val_accuracy: 0.4691\n",
            "Epoch 61/500\n",
            "313/313 [==============================] - 2s 6ms/step - loss: 1.4027 - accuracy: 0.5033 - val_loss: 1.4982 - val_accuracy: 0.4781\n",
            "Epoch 62/500\n",
            "313/313 [==============================] - 2s 5ms/step - loss: 1.4005 - accuracy: 0.5050 - val_loss: 1.5059 - val_accuracy: 0.4906\n",
            "Epoch 63/500\n",
            "313/313 [==============================] - 2s 5ms/step - loss: 1.3991 - accuracy: 0.5066 - val_loss: 1.5003 - val_accuracy: 0.4816\n",
            "Epoch 64/500\n",
            "313/313 [==============================] - 2s 5ms/step - loss: 1.3968 - accuracy: 0.5026 - val_loss: 1.5064 - val_accuracy: 0.4777\n",
            "Epoch 65/500\n",
            "313/313 [==============================] - 2s 5ms/step - loss: 1.3940 - accuracy: 0.5074 - val_loss: 1.5302 - val_accuracy: 0.4739\n",
            "Epoch 66/500\n",
            "313/313 [==============================] - 2s 5ms/step - loss: 1.3934 - accuracy: 0.5054 - val_loss: 1.5741 - val_accuracy: 0.4490\n",
            "Epoch 67/500\n",
            "313/313 [==============================] - 2s 5ms/step - loss: 1.3880 - accuracy: 0.5076 - val_loss: 1.5936 - val_accuracy: 0.4490\n",
            "Epoch 68/500\n",
            "313/313 [==============================] - 2s 5ms/step - loss: 1.3917 - accuracy: 0.5064 - val_loss: 1.5674 - val_accuracy: 0.4416\n",
            "Epoch 69/500\n",
            "313/313 [==============================] - 2s 6ms/step - loss: 1.3939 - accuracy: 0.5065 - val_loss: 1.5689 - val_accuracy: 0.4620\n",
            "Epoch 70/500\n",
            "313/313 [==============================] - 2s 5ms/step - loss: 1.3968 - accuracy: 0.5062 - val_loss: 1.5493 - val_accuracy: 0.4812\n",
            "Epoch 71/500\n",
            "313/313 [==============================] - 2s 6ms/step - loss: 1.3878 - accuracy: 0.5084 - val_loss: 1.5803 - val_accuracy: 0.4559\n",
            "Epoch 72/500\n",
            "313/313 [==============================] - 2s 5ms/step - loss: 1.3840 - accuracy: 0.5086 - val_loss: 1.5578 - val_accuracy: 0.4596\n",
            "Epoch 73/500\n",
            "313/313 [==============================] - 2s 6ms/step - loss: 1.3837 - accuracy: 0.5123 - val_loss: 1.5609 - val_accuracy: 0.4782\n",
            "Epoch 74/500\n",
            "313/313 [==============================] - 2s 5ms/step - loss: 1.3926 - accuracy: 0.5102 - val_loss: 1.5009 - val_accuracy: 0.4829\n",
            "Epoch 75/500\n",
            "313/313 [==============================] - 2s 5ms/step - loss: 1.3854 - accuracy: 0.5099 - val_loss: 1.6309 - val_accuracy: 0.4400\n",
            "Epoch 76/500\n",
            "313/313 [==============================] - 2s 5ms/step - loss: 1.3835 - accuracy: 0.5090 - val_loss: 1.5199 - val_accuracy: 0.4718\n",
            "Epoch 77/500\n",
            "313/313 [==============================] - 2s 5ms/step - loss: 1.3849 - accuracy: 0.5092 - val_loss: 1.5952 - val_accuracy: 0.4658\n",
            "Epoch 78/500\n",
            "313/313 [==============================] - 2s 5ms/step - loss: 1.3808 - accuracy: 0.5093 - val_loss: 1.5515 - val_accuracy: 0.4581\n",
            "Epoch 79/500\n",
            "313/313 [==============================] - 2s 5ms/step - loss: 1.3736 - accuracy: 0.5130 - val_loss: 1.5733 - val_accuracy: 0.4735\n",
            "Epoch 80/500\n",
            "313/313 [==============================] - 2s 5ms/step - loss: 1.3811 - accuracy: 0.5108 - val_loss: 1.5456 - val_accuracy: 0.4651\n",
            "Epoch 81/500\n",
            "313/313 [==============================] - 2s 5ms/step - loss: 1.3755 - accuracy: 0.5134 - val_loss: 1.5297 - val_accuracy: 0.4843\n",
            "Epoch 82/500\n",
            "313/313 [==============================] - 2s 5ms/step - loss: 1.3747 - accuracy: 0.5127 - val_loss: 1.6086 - val_accuracy: 0.4594\n",
            "Epoch 83/500\n",
            "313/313 [==============================] - 2s 6ms/step - loss: 1.3804 - accuracy: 0.5122 - val_loss: 1.5659 - val_accuracy: 0.4712\n",
            "Epoch 84/500\n",
            "313/313 [==============================] - 2s 5ms/step - loss: 1.3749 - accuracy: 0.5134 - val_loss: 1.5712 - val_accuracy: 0.4742\n",
            "Epoch 85/500\n",
            "313/313 [==============================] - 2s 5ms/step - loss: 1.3772 - accuracy: 0.5134 - val_loss: 1.5943 - val_accuracy: 0.4690\n",
            "Epoch 86/500\n",
            "313/313 [==============================] - 2s 6ms/step - loss: 1.3774 - accuracy: 0.5157 - val_loss: 1.6041 - val_accuracy: 0.4603\n",
            "Epoch 87/500\n",
            "313/313 [==============================] - 2s 5ms/step - loss: 1.3775 - accuracy: 0.5108 - val_loss: 1.5553 - val_accuracy: 0.4792\n",
            "Epoch 88/500\n",
            "313/313 [==============================] - 2s 5ms/step - loss: 1.3749 - accuracy: 0.5170 - val_loss: 1.6048 - val_accuracy: 0.4658\n",
            "Epoch 89/500\n",
            "313/313 [==============================] - 2s 5ms/step - loss: 1.3702 - accuracy: 0.5112 - val_loss: 1.6328 - val_accuracy: 0.4720\n",
            "Epoch 90/500\n",
            "313/313 [==============================] - 2s 6ms/step - loss: 1.3719 - accuracy: 0.5150 - val_loss: 1.6355 - val_accuracy: 0.4685\n",
            "Epoch 91/500\n",
            "313/313 [==============================] - 2s 6ms/step - loss: 1.3716 - accuracy: 0.5155 - val_loss: 1.6399 - val_accuracy: 0.4498\n",
            "Epoch 92/500\n",
            "313/313 [==============================] - 2s 5ms/step - loss: 1.3666 - accuracy: 0.5167 - val_loss: 1.6511 - val_accuracy: 0.4594\n",
            "Epoch 93/500\n",
            "313/313 [==============================] - 2s 5ms/step - loss: 1.3776 - accuracy: 0.5166 - val_loss: 1.6133 - val_accuracy: 0.4619\n",
            "Epoch 94/500\n",
            "313/313 [==============================] - 2s 5ms/step - loss: 1.3769 - accuracy: 0.5124 - val_loss: 1.6156 - val_accuracy: 0.4516\n",
            "Epoch 95/500\n",
            "313/313 [==============================] - 2s 5ms/step - loss: 1.3676 - accuracy: 0.5162 - val_loss: 1.5721 - val_accuracy: 0.4695\n",
            "Epoch 96/500\n",
            "313/313 [==============================] - 2s 5ms/step - loss: 1.3695 - accuracy: 0.5168 - val_loss: 1.7026 - val_accuracy: 0.4129\n",
            "Epoch 97/500\n",
            "313/313 [==============================] - 2s 5ms/step - loss: 1.3729 - accuracy: 0.5181 - val_loss: 1.7637 - val_accuracy: 0.4339\n",
            "Epoch 98/500\n",
            "313/313 [==============================] - 2s 5ms/step - loss: 1.3639 - accuracy: 0.5175 - val_loss: 1.6166 - val_accuracy: 0.4531\n",
            "Epoch 99/500\n",
            "313/313 [==============================] - 2s 5ms/step - loss: 1.3692 - accuracy: 0.5140 - val_loss: 1.5333 - val_accuracy: 0.4880\n",
            "Epoch 100/500\n",
            "313/313 [==============================] - 2s 5ms/step - loss: 1.3694 - accuracy: 0.5174 - val_loss: 1.6063 - val_accuracy: 0.4680\n",
            "Epoch 101/500\n",
            "313/313 [==============================] - 2s 5ms/step - loss: 1.3765 - accuracy: 0.5135 - val_loss: 1.6328 - val_accuracy: 0.4613\n",
            "Epoch 102/500\n",
            "313/313 [==============================] - 2s 5ms/step - loss: 1.3677 - accuracy: 0.5142 - val_loss: 1.5731 - val_accuracy: 0.4676\n",
            "Epoch 103/500\n",
            "313/313 [==============================] - 2s 5ms/step - loss: 1.3744 - accuracy: 0.5146 - val_loss: 1.6030 - val_accuracy: 0.4737\n",
            "Epoch 104/500\n",
            "313/313 [==============================] - 2s 5ms/step - loss: 1.3658 - accuracy: 0.5171 - val_loss: 1.6001 - val_accuracy: 0.4670\n",
            "Epoch 105/500\n",
            "313/313 [==============================] - 2s 5ms/step - loss: 1.3695 - accuracy: 0.5145 - val_loss: 1.5856 - val_accuracy: 0.4732\n",
            "Epoch 106/500\n",
            "313/313 [==============================] - 2s 5ms/step - loss: 1.3689 - accuracy: 0.5170 - val_loss: 1.6423 - val_accuracy: 0.4546\n",
            "Epoch 107/500\n",
            "313/313 [==============================] - 2s 5ms/step - loss: 1.3682 - accuracy: 0.5173 - val_loss: 1.5676 - val_accuracy: 0.4701\n",
            "Epoch 108/500\n",
            "313/313 [==============================] - 2s 6ms/step - loss: 1.3641 - accuracy: 0.5192 - val_loss: 1.5682 - val_accuracy: 0.4819\n",
            "Epoch 109/500\n",
            "313/313 [==============================] - 2s 6ms/step - loss: 1.3685 - accuracy: 0.5173 - val_loss: 1.6254 - val_accuracy: 0.4719\n",
            "Epoch 110/500\n",
            "313/313 [==============================] - 2s 5ms/step - loss: 1.3564 - accuracy: 0.5213 - val_loss: 1.6021 - val_accuracy: 0.4656\n",
            "Epoch 111/500\n",
            "313/313 [==============================] - 2s 5ms/step - loss: 1.3716 - accuracy: 0.5184 - val_loss: 1.5939 - val_accuracy: 0.4712\n",
            "Epoch 112/500\n",
            "313/313 [==============================] - 2s 5ms/step - loss: 1.3535 - accuracy: 0.5201 - val_loss: 1.7013 - val_accuracy: 0.4417\n",
            "Epoch 113/500\n",
            "313/313 [==============================] - 2s 5ms/step - loss: 1.3565 - accuracy: 0.5225 - val_loss: 1.6535 - val_accuracy: 0.4725\n",
            "Epoch 114/500\n",
            "313/313 [==============================] - 2s 5ms/step - loss: 1.3503 - accuracy: 0.5236 - val_loss: 1.6407 - val_accuracy: 0.4457\n",
            "Epoch 115/500\n",
            "313/313 [==============================] - 2s 5ms/step - loss: 1.3565 - accuracy: 0.5186 - val_loss: 1.5910 - val_accuracy: 0.4684\n",
            "Epoch 116/500\n",
            "313/313 [==============================] - 2s 5ms/step - loss: 1.3671 - accuracy: 0.5179 - val_loss: 1.5836 - val_accuracy: 0.4861\n",
            "Epoch 117/500\n",
            "313/313 [==============================] - 2s 5ms/step - loss: 1.3629 - accuracy: 0.5217 - val_loss: 1.5837 - val_accuracy: 0.4762\n",
            "Epoch 118/500\n",
            "313/313 [==============================] - 2s 6ms/step - loss: 1.3632 - accuracy: 0.5192 - val_loss: 1.6466 - val_accuracy: 0.4657\n",
            "Epoch 119/500\n",
            "313/313 [==============================] - 2s 5ms/step - loss: 1.3614 - accuracy: 0.5207 - val_loss: 1.5865 - val_accuracy: 0.4597\n",
            "Epoch 120/500\n",
            "313/313 [==============================] - 2s 5ms/step - loss: 1.3588 - accuracy: 0.5207 - val_loss: 1.6018 - val_accuracy: 0.4600\n",
            "Epoch 121/500\n",
            "313/313 [==============================] - 2s 5ms/step - loss: 1.3534 - accuracy: 0.5215 - val_loss: 1.5696 - val_accuracy: 0.4823\n",
            "Epoch 122/500\n",
            "313/313 [==============================] - 2s 6ms/step - loss: 1.3567 - accuracy: 0.5221 - val_loss: 1.6605 - val_accuracy: 0.4734\n",
            "Epoch 123/500\n",
            "313/313 [==============================] - 2s 5ms/step - loss: 1.3586 - accuracy: 0.5211 - val_loss: 1.6125 - val_accuracy: 0.4614\n",
            "Epoch 124/500\n",
            "313/313 [==============================] - 2s 5ms/step - loss: 1.3529 - accuracy: 0.5228 - val_loss: 1.6362 - val_accuracy: 0.4522\n",
            "Epoch 125/500\n",
            "313/313 [==============================] - 2s 5ms/step - loss: 1.3556 - accuracy: 0.5210 - val_loss: 1.6705 - val_accuracy: 0.4368\n",
            "Epoch 126/500\n",
            "313/313 [==============================] - 2s 5ms/step - loss: 1.3528 - accuracy: 0.5208 - val_loss: 1.6005 - val_accuracy: 0.4711\n",
            "Epoch 127/500\n",
            "313/313 [==============================] - 2s 5ms/step - loss: 1.3531 - accuracy: 0.5233 - val_loss: 1.6225 - val_accuracy: 0.4610\n",
            "Epoch 128/500\n",
            "313/313 [==============================] - 2s 5ms/step - loss: 1.3546 - accuracy: 0.5249 - val_loss: 1.6186 - val_accuracy: 0.4822\n",
            "Epoch 129/500\n",
            "313/313 [==============================] - 2s 5ms/step - loss: 1.3549 - accuracy: 0.5242 - val_loss: 1.5878 - val_accuracy: 0.4795\n",
            "Epoch 130/500\n",
            "313/313 [==============================] - 2s 5ms/step - loss: 1.3513 - accuracy: 0.5278 - val_loss: 1.5974 - val_accuracy: 0.4649\n",
            "Epoch 131/500\n",
            "313/313 [==============================] - 2s 5ms/step - loss: 1.3483 - accuracy: 0.5231 - val_loss: 1.6857 - val_accuracy: 0.4597\n",
            "Epoch 132/500\n",
            "313/313 [==============================] - 2s 5ms/step - loss: 1.3550 - accuracy: 0.5233 - val_loss: 1.6094 - val_accuracy: 0.4580\n",
            "Epoch 133/500\n",
            "313/313 [==============================] - 2s 5ms/step - loss: 1.3478 - accuracy: 0.5232 - val_loss: 1.6649 - val_accuracy: 0.4651\n",
            "Epoch 134/500\n",
            "313/313 [==============================] - 2s 5ms/step - loss: 1.3526 - accuracy: 0.5232 - val_loss: 1.7008 - val_accuracy: 0.4564\n",
            "Epoch 135/500\n",
            "313/313 [==============================] - 2s 5ms/step - loss: 1.3477 - accuracy: 0.5246 - val_loss: 1.6582 - val_accuracy: 0.4617\n",
            "Epoch 136/500\n",
            "313/313 [==============================] - 2s 5ms/step - loss: 1.3467 - accuracy: 0.5275 - val_loss: 1.6272 - val_accuracy: 0.4845\n",
            "Epoch 137/500\n",
            "313/313 [==============================] - 2s 5ms/step - loss: 1.3504 - accuracy: 0.5229 - val_loss: 1.6108 - val_accuracy: 0.4633\n",
            "Epoch 138/500\n",
            "313/313 [==============================] - 2s 5ms/step - loss: 1.3479 - accuracy: 0.5227 - val_loss: 1.5646 - val_accuracy: 0.4800\n",
            "Epoch 139/500\n",
            "313/313 [==============================] - 2s 5ms/step - loss: 1.3562 - accuracy: 0.5239 - val_loss: 1.6153 - val_accuracy: 0.4786\n",
            "Epoch 140/500\n",
            "313/313 [==============================] - 2s 5ms/step - loss: 1.3516 - accuracy: 0.5223 - val_loss: 1.6824 - val_accuracy: 0.4704\n",
            "Epoch 141/500\n",
            "313/313 [==============================] - 2s 5ms/step - loss: 1.3531 - accuracy: 0.5238 - val_loss: 1.7642 - val_accuracy: 0.4731\n"
          ]
        }
      ]
    },
    {
      "cell_type": "code",
      "source": [
        "score = model.evaluate(x_test,y_test,verbose=0)\n",
        "print('Sai số kiểm tra là: ',score[0])\n",
        "print('Độ chính xác kiểm tra là: ',score[1])\n",
        "plt.plot(history.history['accuracy'])\n",
        "plt.plot(history.history['val_accuracy'])\n",
        "plt.title('model accuracy')\n",
        "plt.ylabel('accuracy')\n",
        "plt.xlabel('epochs')\n",
        "plt.legend(['train','Validation'])\n",
        "plt.show()"
      ],
      "metadata": {
        "colab": {
          "base_uri": "https://localhost:8080/",
          "height": 330
        },
        "id": "WHvFI3D5qfZF",
        "outputId": "0835f033-74ea-45a2-ab97-aacba6cc9c12"
      },
      "execution_count": null,
      "outputs": [
        {
          "output_type": "stream",
          "name": "stdout",
          "text": [
            "Sai số kiểm tra là:  1.6999564170837402\n",
            "Độ chính xác kiểm tra là:  0.4690999984741211\n"
          ]
        },
        {
          "output_type": "display_data",
          "data": {
            "text/plain": [
              "<Figure size 432x288 with 1 Axes>"
            ],
            "image/png": "[encoded data removed]"
          },
          "metadata": {
            "needs_background": "light"
          }
        }
      ]
    },
    {
      "cell_type": "code",
      "source": [
        ""
      ],
      "metadata": {
        "id": "QhHF5_FariYC"
      },
      "execution_count": null,
      "outputs": []
    }
  ]
}